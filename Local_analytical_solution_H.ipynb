{
 "cells": [
  {
   "cell_type": "markdown",
   "metadata": {},
   "source": [
    "# ## Some ideas for a numerical solution to the SPACE model: Stream Power with Alluvium Conservation and Entrainment\n",
    "\n",
    "## Using a local analytical solution for H at each node at each time step\n",
    "\n",
    "Basic equation set so far, for 1D. Sediment flux downstream:\n",
    "\n",
    "$$\\frac{dq_s}{dx} = K_s q S (1-\\exp (-H/H_* ) ) + (1-F_f) K_r q S \\exp (-H/H_*) -Vq_s/q$$\n",
    "\n",
    "Rate of change of alluv thickness:\n",
    "\n",
    "$$(1-\\phi ) \\frac{\\partial H}{\\partial t} = V q_s/q - K_s q S (1-\\exp (-H/H_* ) )$$\n",
    "\n",
    "Rate of change of rock elev:\n",
    "\n",
    "$$\\frac{\\partial R}{\\partial t} = U - K_r q S \\exp (-H/H_* )$$\n",
    "\n",
    "Local analytical solution for sediment flux within a cell:\n",
    "\n",
    "$$q_s = \\left( \\frac{E_s+(1-F_f)E_r}{V/q} \\right) \\left( 1-\\exp (-Vx/q) \\right) + q_{s0} \\exp (-Vx/q)$$\n",
    "\n",
    "Try a little 1D version with some initial slope $S_0$:"
   ]
  },
  {
   "cell_type": "code",
   "execution_count": 34,
   "metadata": {
    "collapsed": true
   },
   "outputs": [],
   "source": [
    "import numpy as np\n",
    "import matplotlib.pyplot as plt\n",
    "\n",
    "num_nodes = 50\n",
    "dx = 1.0\n",
    "S0 = 0.01\n",
    "V = 0.001 # settling velocity\n",
    "Ff = 0.5\n",
    "Ks = 0.1 # sed erodibility. not necessarily realistic\n",
    "Kr = 0.0001\n",
    "Hstar = 0.1 # sed thickness req'd for full entrainment potential. Not necessarily realistic.\n",
    "dt = 1000.0 # seconds\n",
    "total_time = 50000000.0\n",
    "num_time_steps = int(total_time / dt)\n",
    "U = 1.0e-7 # 1.0e-7 is still ~3m/year\n",
    "r = 0.2 # some runoff factor\n",
    "\n",
    "# array index\n",
    "upper = np.arange(num_nodes-1)\n",
    "\n",
    "# arrays\n",
    "q = (np.arange(num_nodes) + 1)* dx * r # q = distance downstream * r\n",
    "Voverq = V/q \n",
    "qs = np.zeros(num_nodes)\n",
    "qs_in = np.zeros(num_nodes)\n",
    "x = dx * np.arange(0, num_nodes)\n",
    "H = np.zeros(num_nodes)\n",
    "R = np.zeros(num_nodes)\n",
    "z = (S0 * (num_nodes - 1) * dx - S0 * x)\n",
    "R[:] = z"
   ]
  },
  {
   "cell_type": "code",
   "execution_count": 38,
   "metadata": {
    "collapsed": false
   },
   "outputs": [
    {
     "data": {
      "image/png": "[encoded data removed]",
      "text/plain": [
       "<matplotlib.figure.Figure at 0x1115ed190>"
      ]
     },
     "metadata": {},
     "output_type": "display_data"
    }
   ],
   "source": [
    "%matplotlib inline\n",
    "\n",
    "for i in range(num_time_steps):\n",
    "    # calculate slope\n",
    "    S = (z[upper] - z[1:]) / dx\n",
    "    \n",
    "    # calculate Es and Er using H from previous time step?\n",
    "    Es = Ks * q[upper] * S * (1.0 - np.exp(-H[upper] / Hstar))\n",
    "    \n",
    "    Er = Kr * q[upper] * S * np.exp(-H[upper] / Hstar)\n",
    "    \n",
    "    for j in range (num_nodes - 1):\n",
    "        # calculate qs from H of previous time step\n",
    "        qs[j] = (((Es[j]) + (1-Ff) * Er[j]) / Voverq[j]) * (1.0 - np.exp(-dx * Voverq[j])) + (qs_in[j] * np.exp(-dx * Voverq[j]))\n",
    "        qs_in[j+1] = qs[j]\n",
    "        \n",
    "        # calculate H using the qs that was just found?\n",
    "        # log is natural log\n",
    "        H[j] = Hstar * np.log(((V * qs[j] * Kr)/(U * q[j] * Ks))+1)\n",
    "        \n",
    "    # not doing an analytical solution for R (?)    \n",
    "    R[upper] += dt * (U - Kr * q[upper] * S * (np.exp(-H[upper] / Hstar)))\n",
    "    \n",
    "    if i % 10000 == 0:\n",
    "        plt.plot(H[:-1])\n",
    "        plt.title('Alluvium thickness over time')\n",
    "    \n",
    "    z = R + H\n"
   ]
  },
  {
   "cell_type": "code",
   "execution_count": 37,
   "metadata": {
    "collapsed": false
   },
   "outputs": [
    {
     "data": {
      "text/plain": [
       "[<matplotlib.lines.Line2D at 0x1115bf810>]"
      ]
     },
     "execution_count": 37,
     "metadata": {},
     "output_type": "execute_result"
    },
    {
     "data": {
      "image/png": "[encoded data removed]",
      "text/plain": [
       "<matplotlib.figure.Figure at 0x112cd2350>"
      ]
     },
     "metadata": {},
     "output_type": "display_data"
    }
   ],
   "source": [
    "plt.plot(H[:-1])"
   ]
  },
  {
   "cell_type": "code",
   "execution_count": 35,
   "metadata": {
    "collapsed": false
   },
   "outputs": [
    {
     "data": {
      "text/plain": [
       "50000"
      ]
     },
     "execution_count": 35,
     "metadata": {},
     "output_type": "execute_result"
    }
   ],
   "source": [
    "num_time_steps"
   ]
  },
  {
   "cell_type": "code",
   "execution_count": null,
   "metadata": {
    "collapsed": true
   },
   "outputs": [],
   "source": []
  }
 ],
 "metadata": {
  "kernelspec": {
   "display_name": "Python 2",
   "language": "python",
   "name": "python2"
  },
  "language_info": {
   "codemirror_mode": {
    "name": "ipython",
    "version": 2
   },
   "file_extension": ".py",
   "mimetype": "text/x-python",
   "name": "python",
   "nbconvert_exporter": "python",
   "pygments_lexer": "ipython2",
   "version": "2.7.11"
  }
 },
 "nbformat": 4,
 "nbformat_minor": 0
}
