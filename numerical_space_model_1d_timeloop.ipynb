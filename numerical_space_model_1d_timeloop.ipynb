{
 "cells": [
  {
   "cell_type": "markdown",
   "metadata": {},
   "source": [
    "## Some ideas for a numerical solution to the SPACE model: Stream Power with Alluvium Conservation and Entrainment\n",
    "Running a time loop, seeing if things are realistic.\n",
    "Basic equation set so far, for 1D. Sediment flux downstream:\n",
    "\n",
    "$$\\frac{dq_s}{dx} = K_s q S (1-\\exp (-H/H_* ) ) + (1-F_f) K_r q S \\exp (-H/H_*) -Vq_s/q$$\n",
    "\n",
    "Rate of change of alluv thickness:\n",
    "\n",
    "$$(1-\\phi ) \\frac{\\partial H}{\\partial t} = V q_s/q - K_s q S (1-\\exp (-H/H_* ) )$$\n",
    "\n",
    "Rate of change of rock elev:\n",
    "\n",
    "$$\\frac{\\partial R}{\\partial t} = U - K_r q S \\exp (-H/H_* )$$\n",
    "\n",
    "Local analytical solution for sediment flux within a cell:\n",
    "\n",
    "$$q_s = \\left( \\frac{E_s+(1-F_f)E_r}{V/q} \\right) \\left( 1-\\exp (-Vx/q) \\right) + q_{s0} \\exp (-Vx/q)$$\n",
    "\n",
    "Try a little 1D version with some initial slope $S_0$:"
   ]
  },
  {
   "cell_type": "markdown",
   "metadata": {},
   "source": [
    "First, a version with 100-second time steps.\n",
    "\n",
    " - Discharge does not vary downstream\n",
    " - time units are seconds\n",
    " - distance units are meters\n",
    " - Right now, the last point in each profile is 0. Need to change that."
   ]
  },
  {
   "cell_type": "code",
   "execution_count": 17,
   "metadata": {
    "collapsed": false
   },
   "outputs": [],
   "source": [
    "import numpy as np\n",
    "import matplotlib.pyplot as plt\n",
    "num_nodes = 50\n",
    "dx = 1.0\n",
    "S0 = 0.01\n",
    "q = 1.0 # In this version, discharge stays constant downstream\n",
    "V = 0.001 # settling velocity\n",
    "Ff = 0.5\n",
    "Ks = 1.0 # sed erodibility. not necessarily realistic\n",
    "Kr = 0.001\n",
    "Hstar = 1.0 # sed thickness req'd for full entrainment potential. Not necessarily realistic.\n",
    "Voverq = V/q # this can be a constant because q doesn't change downstream in this version\n",
    "dt = 100.0 # seconds\n",
    "total_time = 5000000.0\n",
    "num_time_steps = int(total_time / dt)\n",
    "U = 1.0e-7 # 1.0e-7 is still ~3m/year\n",
    "base_level = 0.0\n",
    "\n",
    "# array index\n",
    "upper = np.arange(num_nodes-1)\n",
    "\n",
    "# arrays\n",
    "qs = np.zeros(num_nodes)\n",
    "qs_in = np.zeros(num_nodes)\n",
    "x = dx * np.arange(0, num_nodes)\n",
    "H = np.zeros(num_nodes)\n",
    "R = np.zeros(num_nodes)\n",
    "z = (S0 * (num_nodes - 1) * dx - S0 * x)\n",
    "R[:] = z"
   ]
  },
  {
   "cell_type": "code",
   "execution_count": 3,
   "metadata": {
    "collapsed": false
   },
   "outputs": [
    {
     "data": {
      "text/plain": [
       "array([ 0.49,  0.48,  0.47,  0.46,  0.45,  0.44,  0.43,  0.42,  0.41,\n",
       "        0.4 ,  0.39,  0.38,  0.37,  0.36,  0.35,  0.34,  0.33,  0.32,\n",
       "        0.31,  0.3 ,  0.29,  0.28,  0.27,  0.26,  0.25,  0.24,  0.23,\n",
       "        0.22,  0.21,  0.2 ,  0.19,  0.18,  0.17,  0.16,  0.15,  0.14,\n",
       "        0.13,  0.12,  0.11,  0.1 ,  0.09,  0.08,  0.07,  0.06,  0.05,\n",
       "        0.04,  0.03,  0.02,  0.01,  0.  ])"
      ]
     },
     "execution_count": 3,
     "metadata": {},
     "output_type": "execute_result"
    }
   ],
   "source": [
    "z"
   ]
  },
  {
   "cell_type": "markdown",
   "metadata": {},
   "source": [
    "Time loop with a downstream distance loop inside (not ideal)\n",
    "\n",
    "Time loop:\n",
    "\n",
    " - Each time step, first calculate S, Es and Er (functions of H)\n",
    " - Then, loop through the nodes from upstream to downstream calculating sediment flux.\n",
    " - Do a forward Euler solution for H\n",
    " - And rock uplift, R\n",
    " - And add R and H together to get elevation"
   ]
  },
  {
   "cell_type": "code",
   "execution_count": 18,
   "metadata": {
    "collapsed": false
   },
   "outputs": [
    {
     "data": {
      "image/png": "[encoded data removed]",
      "text/plain": [
       "<matplotlib.figure.Figure at 0x111af60d0>"
      ]
     },
     "metadata": {},
     "output_type": "display_data"
    }
   ],
   "source": [
    "for i in range(num_time_steps):\n",
    "    S = (z[upper] - z[1:]) / dx\n",
    "    \n",
    "    Es = Ks * q * S * (1.0 - np.exp(-H[upper] / Hstar))\n",
    "    \n",
    "    Er = Kr * q * S * np.exp(-H[upper] / Hstar)\n",
    "    \n",
    "    for j in range(num_nodes - 1):\n",
    "        qs[j] = (((Es[j]) + (1-Ff) * Er[j]) / Voverq) * (1.0 - np.exp(-dx * Voverq)) + (qs_in[j] * np.exp(-dx * Voverq))\n",
    "        qs_in[j+1] = qs[j]\n",
    "    \n",
    "    H[upper] += dt * ((qs[upper] * Voverq) - Ks * q * S *(1.0 - np.exp(-H[upper]/Hstar)))\n",
    "    \n",
    "    R[upper] += dt * (U - Kr * q * S * (np.exp(-H[upper] / Hstar)))\n",
    "    \n",
    "    if i % 5000 == 0:\n",
    "        plt.plot(H[:-1])\n",
    "        plt.title('Alluvium thickness over time')\n",
    "    \n",
    "    z = R + H"
   ]
  },
  {
   "cell_type": "code",
   "execution_count": 19,
   "metadata": {
    "collapsed": false
   },
   "outputs": [
    {
     "name": "stdout",
     "output_type": "stream",
     "text": [
      "[  5.00249958e-07   1.00049967e-06   1.50074912e-06   2.00099833e-06\n",
      "   2.50124729e-06   3.00149600e-06   3.50174445e-06   4.00199266e-06\n",
      "   4.50224062e-06   5.00248832e-06   5.50273578e-06   6.00298298e-06\n",
      "   6.50322994e-06   7.00347664e-06   7.50372310e-06   8.00396930e-06\n",
      "   8.50421526e-06   9.00446096e-06   9.50470641e-06   1.00049516e-05\n",
      "   1.05051966e-05   1.10054413e-05   1.15056857e-05   1.20059299e-05\n",
      "   1.25061739e-05   1.30064176e-05   1.35066610e-05   1.40069042e-05\n",
      "   1.45071472e-05   1.50073899e-05   1.55076323e-05   1.60078745e-05\n",
      "   1.65081165e-05   1.70083582e-05   1.75085996e-05   1.80088408e-05\n",
      "   1.85090818e-05   1.90093225e-05   1.95095629e-05   2.00098031e-05\n",
      "   2.05100431e-05   2.10102828e-05   2.15105222e-05   2.20107614e-05\n",
      "   2.25110004e-05   2.30112391e-05   2.35114775e-05   2.40117157e-05\n",
      "   2.45119537e-05   0.00000000e+00]\n"
     ]
    },
    {
     "data": {
      "image/png": "[encoded data removed]",
      "text/plain": [
       "<matplotlib.figure.Figure at 0x1117da210>"
      ]
     },
     "metadata": {},
     "output_type": "display_data"
    }
   ],
   "source": [
    "import matplotlib.pyplot as plt\n",
    "%matplotlib inline\n",
    "plt.plot(H[:-1])\n",
    "plt.title('Alluvium thickness')\n",
    "print H"
   ]
  },
  {
   "cell_type": "code",
   "execution_count": 6,
   "metadata": {
    "collapsed": false
   },
   "outputs": [
    {
     "data": {
      "text/plain": [
       "<matplotlib.text.Text at 0x10d5a9f50>"
      ]
     },
     "execution_count": 6,
     "metadata": {},
     "output_type": "execute_result"
    },
    {
     "data": {
      "image/png": "[encoded data removed]",
      "text/plain": [
       "<matplotlib.figure.Figure at 0x10d55c850>"
      ]
     },
     "metadata": {},
     "output_type": "display_data"
    }
   ],
   "source": [
    "plt.plot(z)\n",
    "plt.title('Bed elevation')"
   ]
  },
  {
   "cell_type": "code",
   "execution_count": 7,
   "metadata": {
    "collapsed": false
   },
   "outputs": [
    {
     "data": {
      "text/plain": [
       "<matplotlib.text.Text at 0x10ff53650>"
      ]
     },
     "execution_count": 7,
     "metadata": {},
     "output_type": "execute_result"
    },
    {
     "data": {
      "image/png": "[encoded data removed]",
      "text/plain": [
       "<matplotlib.figure.Figure at 0x10d774190>"
      ]
     },
     "metadata": {},
     "output_type": "display_data"
    }
   ],
   "source": [
    "plt.plot(R[:-1])\n",
    "plt.title('Elevation of top of bedrock')"
   ]
  },
  {
   "cell_type": "markdown",
   "metadata": {},
   "source": [
    "Now, a version with 10-second time steps. We get the same values!"
   ]
  },
  {
   "cell_type": "code",
   "execution_count": 8,
   "metadata": {
    "collapsed": true
   },
   "outputs": [],
   "source": [
    "# reset variables, otherwise the code below uses H, z etc from previous run\n",
    "\n",
    "num_nodes = 50\n",
    "dx = 1.0\n",
    "S0 = 0.01\n",
    "q = 1.0 # In this version, discharge stays constant downstream\n",
    "V = 0.001 # settling velocity\n",
    "Ff = 0.5\n",
    "Ks = 1.0 # sed erodibility. not necessarily realistic\n",
    "Kr = 0.001\n",
    "Hstar = 1.0 # sed thickness req'd for full entrainment potential. Not necessarily realistic.\n",
    "Voverq = V/q # this can be a constant because q doesn't change downstream in this version\n",
    "dt = 10.0 # seconds\n",
    "total_time = 5000000.0\n",
    "num_time_steps = int(total_time / dt)\n",
    "U = 1.0e-7 # 1.0e-7 is still ~3m/year\n",
    "\n",
    "# array index\n",
    "upper = np.arange(num_nodes-1)\n",
    "\n",
    "# arrays\n",
    "qs = np.zeros(num_nodes)\n",
    "qs_in = np.zeros(num_nodes)\n",
    "x = dx * np.arange(0, num_nodes)\n",
    "H = np.zeros(num_nodes)\n",
    "R = np.zeros(num_nodes)\n",
    "z = (S0 * (num_nodes - 1) * dx - S0 * x)\n",
    "R[:] = z\n",
    "\n",
    "\n",
    "for i in range(num_time_steps):\n",
    "    S = (z[upper] - z[1:]) / dx\n",
    "    \n",
    "    Es = Ks * q * S * (1.0 - np.exp(-H[upper] / Hstar))\n",
    "    \n",
    "    Er = Kr * q * S * np.exp(-H[upper] / Hstar)\n",
    "    \n",
    "    for j in range(num_nodes - 1):\n",
    "        qs[j] = (((Es[j]) + (1-Ff) * Er[j]) / Voverq) * (1.0 - np.exp(-dx * Voverq)) + (qs_in[j] * np.exp(-dx * Voverq))\n",
    "        qs_in[j+1] = qs[j]\n",
    "    \n",
    "    H[upper] += dt * ((qs[upper] * Voverq) - Ks * q * S *(1.0 - np.exp(-H[upper]/Hstar)))\n",
    "    \n",
    "    R[upper] += dt * (U - Kr * q * S * (np.exp(-H[upper] / Hstar)))\n",
    "    \n",
    "    z = R + H "
   ]
  },
  {
   "cell_type": "code",
   "execution_count": 9,
   "metadata": {
    "collapsed": false
   },
   "outputs": [
    {
     "data": {
      "text/plain": [
       "<matplotlib.text.Text at 0x11021dcd0>"
      ]
     },
     "execution_count": 9,
     "metadata": {},
     "output_type": "execute_result"
    },
    {
     "data": {
      "image/png": "[encoded data removed]",
      "text/plain": [
       "<matplotlib.figure.Figure at 0x10d774490>"
      ]
     },
     "metadata": {},
     "output_type": "display_data"
    }
   ],
   "source": [
    "plt.plot(H[:-1])\n",
    "plt.title('Alluvium thickness')"
   ]
  },
  {
   "cell_type": "code",
   "execution_count": 10,
   "metadata": {
    "collapsed": false
   },
   "outputs": [
    {
     "data": {
      "text/plain": [
       "<matplotlib.text.Text at 0x1106bdb10>"
      ]
     },
     "execution_count": 10,
     "metadata": {},
     "output_type": "execute_result"
    },
    {
     "data": {
      "image/png": "[encoded data removed]",
      "text/plain": [
       "<matplotlib.figure.Figure at 0x10ff530d0>"
      ]
     },
     "metadata": {},
     "output_type": "display_data"
    }
   ],
   "source": [
    "plt.plot(z)\n",
    "plt.title('Bed elevation')"
   ]
  },
  {
   "cell_type": "code",
   "execution_count": 11,
   "metadata": {
    "collapsed": false
   },
   "outputs": [
    {
     "data": {
      "text/plain": [
       "<matplotlib.text.Text at 0x1113c7450>"
      ]
     },
     "execution_count": 11,
     "metadata": {},
     "output_type": "execute_result"
    },
    {
     "data": {
      "image/png": "[encoded data removed]",
      "text/plain": [
       "<matplotlib.figure.Figure at 0x1106bd2d0>"
      ]
     },
     "metadata": {},
     "output_type": "display_data"
    }
   ],
   "source": [
    "plt.plot(R[:-1])\n",
    "plt.title('Elevation of top of bedrock')"
   ]
  },
  {
   "cell_type": "markdown",
   "metadata": {},
   "source": [
    "Now a version with 1000-second time steps. This causes a bunch of overflows and errors."
   ]
  },
  {
   "cell_type": "code",
   "execution_count": 13,
   "metadata": {
    "collapsed": false
   },
   "outputs": [
    {
     "name": "stderr",
     "output_type": "stream",
     "text": [
      "/Users/Sarah/anaconda/lib/python2.7/site-packages/ipykernel/__main__.py:45: RuntimeWarning: overflow encountered in exp\n",
      "/Users/Sarah/anaconda/lib/python2.7/site-packages/ipykernel/__main__.py:35: RuntimeWarning: overflow encountered in exp\n",
      "/Users/Sarah/anaconda/lib/python2.7/site-packages/ipykernel/__main__.py:37: RuntimeWarning: overflow encountered in exp\n",
      "/Users/Sarah/anaconda/lib/python2.7/site-packages/ipykernel/__main__.py:37: RuntimeWarning: invalid value encountered in multiply\n",
      "/Users/Sarah/anaconda/lib/python2.7/site-packages/ipykernel/__main__.py:40: RuntimeWarning: invalid value encountered in double_scalars\n",
      "/Users/Sarah/anaconda/lib/python2.7/site-packages/ipykernel/__main__.py:43: RuntimeWarning: overflow encountered in exp\n",
      "/Users/Sarah/anaconda/lib/python2.7/site-packages/ipykernel/__main__.py:33: RuntimeWarning: invalid value encountered in subtract\n"
     ]
    }
   ],
   "source": [
    "# reset variables, otherwise the code below uses H, z etc from previous run\n",
    "\n",
    "num_nodes = 50\n",
    "dx = 1.0\n",
    "S0 = 0.01\n",
    "q = 1.0 # In this version, discharge stays constant downstream\n",
    "V = 0.001 # settling velocity\n",
    "Ff = 0.5\n",
    "Ks = 1.0 # sed erodibility. not necessarily realistic\n",
    "Kr = 0.001\n",
    "Hstar = 1.0 # sed thickness req'd for full entrainment potential. Not necessarily realistic.\n",
    "Voverq = V/q # this can be a constant because q doesn't change downstream in this version\n",
    "dt = 1000.0 # seconds\n",
    "total_time = 5000000.0\n",
    "num_time_steps = int(total_time / dt)\n",
    "U = 1.0e-7 # 1.0e-7 is still ~3m/year\n",
    "\n",
    "# array index\n",
    "upper = np.arange(num_nodes-1)\n",
    "\n",
    "# arrays\n",
    "qs = np.zeros(num_nodes)\n",
    "qs_in = np.zeros(num_nodes)\n",
    "x = dx * np.arange(0, num_nodes)\n",
    "H = np.zeros(num_nodes)\n",
    "R = np.zeros(num_nodes)\n",
    "z = (S0 * (num_nodes - 1) * dx - S0 * x)\n",
    "R[:] = z\n",
    "\n",
    "\n",
    "\n",
    "for i in range(num_time_steps):\n",
    "    S = (z[upper] - z[1:]) / dx\n",
    "    \n",
    "    Es = Ks * q * S * (1.0 - np.exp(-H[upper] / Hstar))\n",
    "    \n",
    "    Er = Kr * q * S * np.exp(-H[upper] / Hstar)\n",
    "    \n",
    "    for j in range(num_nodes - 1):\n",
    "        qs[j] = (((Es[j]) + (1-Ff) * Er[j]) / Voverq) * (1.0 - np.exp(-dx * Voverq)) + (qs_in[j] * np.exp(-dx * Voverq))\n",
    "        qs_in[j+1] = qs[j]\n",
    "    \n",
    "    H[upper] += dt * ((qs[upper] * Voverq) - Ks * q * S *(1.0 - np.exp(-H[upper]/Hstar)))\n",
    "    \n",
    "    R[upper] += dt * (U - Kr * q * S * (np.exp(-H[upper] / Hstar)))\n",
    "    \n",
    "    z = R + H "
   ]
  },
  {
   "cell_type": "code",
   "execution_count": 14,
   "metadata": {
    "collapsed": false
   },
   "outputs": [
    {
     "data": {
      "text/plain": [
       "<matplotlib.text.Text at 0x11157db10>"
      ]
     },
     "execution_count": 14,
     "metadata": {},
     "output_type": "execute_result"
    },
    {
     "data": {
      "image/png": "[encoded data removed]",
      "text/plain": [
       "<matplotlib.figure.Figure at 0x1106b1a50>"
      ]
     },
     "metadata": {},
     "output_type": "display_data"
    }
   ],
   "source": [
    "plt.plot(H[:-1])\n",
    "plt.title('Alluvium thickness')"
   ]
  },
  {
   "cell_type": "code",
   "execution_count": 15,
   "metadata": {
    "collapsed": false
   },
   "outputs": [
    {
     "data": {
      "text/plain": [
       "<matplotlib.text.Text at 0x1117fdf90>"
      ]
     },
     "execution_count": 15,
     "metadata": {},
     "output_type": "execute_result"
    },
    {
     "data": {
      "image/png": "[encoded data removed]",
      "text/plain": [
       "<matplotlib.figure.Figure at 0x1115723d0>"
      ]
     },
     "metadata": {},
     "output_type": "display_data"
    }
   ],
   "source": [
    "plt.plot(z[:-1])\n",
    "plt.title('Bed elevation')"
   ]
  },
  {
   "cell_type": "code",
   "execution_count": 16,
   "metadata": {
    "collapsed": false
   },
   "outputs": [
    {
     "data": {
      "text/plain": [
       "<matplotlib.text.Text at 0x111852fd0>"
      ]
     },
     "execution_count": 16,
     "metadata": {},
     "output_type": "execute_result"
    },
    {
     "data": {
      "image/png": "[encoded data removed]",
      "text/plain": [
       "<matplotlib.figure.Figure at 0x1119392d0>"
      ]
     },
     "metadata": {},
     "output_type": "display_data"
    }
   ],
   "source": [
    "plt.plot(R[:-1])\n",
    "plt.title('Elevation of top of bedrock')"
   ]
  },
  {
   "cell_type": "code",
   "execution_count": null,
   "metadata": {
    "collapsed": true
   },
   "outputs": [],
   "source": []
  },
  {
   "cell_type": "code",
   "execution_count": null,
   "metadata": {
    "collapsed": true
   },
   "outputs": [],
   "source": []
  }
 ],
 "metadata": {
  "kernelspec": {
   "display_name": "Python 2",
   "language": "python",
   "name": "python2"
  },
  "language_info": {
   "codemirror_mode": {
    "name": "ipython",
    "version": 2
   },
   "file_extension": ".py",
   "mimetype": "text/x-python",
   "name": "python",
   "nbconvert_exporter": "python",
   "pygments_lexer": "ipython2",
   "version": "2.7.11"
  }
 },
 "nbformat": 4,
 "nbformat_minor": 0
}
